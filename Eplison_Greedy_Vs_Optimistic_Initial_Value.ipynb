{
  "nbformat": 4,
  "nbformat_minor": 0,
  "metadata": {
    "colab": {
      "name": "Eplison Greedy Vs Optimistic Initial Value.ipynb",
      "provenance": [],
      "collapsed_sections": [],
      "authorship_tag": "ABX9TyMfs4ZOHhah2Jqbn2YsYpDl",
      "include_colab_link": true
    },
    "kernelspec": {
      "name": "python3",
      "display_name": "Python 3"
    }
  },
  "cells": [
    {
      "cell_type": "markdown",
      "metadata": {
        "id": "view-in-github",
        "colab_type": "text"
      },
      "source": [
        "<a href=\"https://colab.research.google.com/github/asaane88/Arvind-Saane/blob/master/Eplison_Greedy_Vs_Optimistic_Initial_Value.ipynb\" target=\"_parent\"><img src=\"https://colab.research.google.com/assets/colab-badge.svg\" alt=\"Open In Colab\"/></a>"
      ]
    },
    {
      "cell_type": "code",
      "metadata": {
        "id": "Og-o17-K42zK",
        "colab_type": "code",
        "colab": {}
      },
      "source": [
        "import numpy as np\n",
        "import matplotlib.pyplot as plt\n",
        "\n",
        "class Actions_oiv:\n",
        "  def __init__(self, m, upper_limit):\n",
        "    self.m = m\n",
        "    self.mean = upper_limit\n",
        "    self.N = 1\n",
        "\n",
        "    def choose(self):\n",
        "      return np.random.randn() + self.m\n",
        "\n",
        "    def update(self, x):\n",
        "      self.N += 1\n",
        "      self.mean = (1 - 1.0/self.N)*self.mean +1.0/self.N*x"
      ],
      "execution_count": 0,
      "outputs": []
    },
    {
      "cell_type": "code",
      "metadata": {
        "id": "_VOEJq1E5Cj8",
        "colab_type": "code",
        "colab": {}
      },
      "source": [
        "def run_experiment(m1, m2, m3, N, upper_limit=10):\n",
        "  actions_oiv = [Actions_oiv(m1, upper_limit), Actions_oiv(m2, upper_limit), Actions_oiv(m3, upper_limit)]\n",
        "\n",
        "  data = np.empty(N)\n",
        "\n",
        "  for i in range(N):\n",
        "    #Otimistic Initial Value\n",
        "    j = np.argmax([a.mean for a in actions_oiv])\n",
        "    x = actions_oiv[j].choose()\n",
        "    actions_oiv[j].update(x)\n",
        "\n",
        "    #for the plot\n",
        "    data[i] = x\n",
        "  cumulative_average = np.cumsum(data) / (np.arrange(N) + 1)\n",
        "\n",
        "  #Plot moving average ctr\n",
        "  plt.plot(cumulative_average)\n",
        "  plt.plot(np.ones(N)*m1)\n",
        "  plt.plot(np.ones(N)*m2)\n",
        "  plt.plot(np.ones(N)*m3)\n",
        "  plt.xscale('log')\n",
        "  plt.show()\n",
        "\n",
        "  for a in actions:\n",
        "    print(a.mean)\n",
        "\n",
        "    return cumulative_average"
      ],
      "execution_count": 0,
      "outputs": []
    },
    {
      "cell_type": "code",
      "metadata": {
        "id": "YKRCKvVL5Cok",
        "colab_type": "code",
        "colab": {}
      },
      "source": [
        "c_1 = run_experiment(1.0, 2.0, 3.0, 0.1, 100000)"
      ],
      "execution_count": 0,
      "outputs": []
    },
    {
      "cell_type": "code",
      "metadata": {
        "id": "qUT4o0MB5CtU",
        "colab_type": "code",
        "colab": {}
      },
      "source": [
        "oiv = run_experiment(1.0, 2.0, 3.0, 100000)"
      ],
      "execution_count": 0,
      "outputs": []
    },
    {
      "cell_type": "code",
      "metadata": {
        "id": "f_pWcxdL5C4O",
        "colab_type": "code",
        "colab": {}
      },
      "source": [
        "#log scale plot\n",
        "plt.plot(c_1, label = 'eps = 0.1')\n",
        "plt.plot(oiv, label = 'optimistic')\n",
        "plt.legend()\n",
        "plt.xscale('log')\n",
        "plt.show()"
      ],
      "execution_count": 0,
      "outputs": []
    }
  ]
}