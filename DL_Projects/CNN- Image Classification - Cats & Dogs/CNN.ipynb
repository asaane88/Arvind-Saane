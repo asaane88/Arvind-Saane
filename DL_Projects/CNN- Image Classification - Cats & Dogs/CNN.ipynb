{
 "cells": [
  {
   "cell_type": "code",
   "execution_count": 1,
   "metadata": {},
   "outputs": [
    {
     "name": "stderr",
     "output_type": "stream",
     "text": [
      "Using TensorFlow backend.\n"
     ]
    }
   ],
   "source": [
    "# Convolutional Neural Network\n",
    "\n",
    "# Installing Theano\n",
    "# pip install --upgrade --no-deps git+git://github.com/Theano/Theano.git\n",
    "\n",
    "# Installing Tensorflow\n",
    "# Install Tensorflow from the website: https://www.tensorflow.org/versions/r0.12/get_started/os_setup.html\n",
    "\n",
    "# Installing Keras\n",
    "#pip install --upgrade keras\n",
    "\n",
    "# Part 1 - Building the CNN\n",
    "\n",
    "# Importing the Keras libraries and packages\n",
    "from keras.models import Sequential\n",
    "from keras.layers import Convolution2D\n",
    "from keras.layers import MaxPooling2D\n",
    "from keras.layers import Flatten\n",
    "from keras.layers import Dense"
   ]
  },
  {
   "cell_type": "code",
   "execution_count": 2,
   "metadata": {},
   "outputs": [],
   "source": [
    "# Initialising the CNN\n",
    "classifier = Sequential()\n",
    "\n",
    "# Step 1 - Convolution\n",
    "classifier.add(Convolution2D(32, (3, 3), input_shape = (64, 64, 3), activation = 'relu'))\n",
    "\n",
    "# Step 2 - Pooling\n",
    "classifier.add(MaxPooling2D(pool_size = (2, 2)))\n",
    "\n",
    "# Adding a second convolutional layer\n",
    "classifier.add(Convolution2D(32, (3, 3), activation = 'relu'))\n",
    "classifier.add(MaxPooling2D(pool_size = (2, 2)))\n",
    "\n",
    "# Step 3 - Flattening\n",
    "classifier.add(Flatten())\n",
    "\n",
    "# Step 4 - Full connection\n",
    "classifier.add(Dense(units = 128, activation = 'relu'))\n",
    "classifier.add(Dense(units = 1, activation = 'sigmoid'))\n",
    "\n",
    "# Compiling the CNN\n",
    "classifier.compile(optimizer = 'adam', loss = 'binary_crossentropy', metrics = ['accuracy'])"
   ]
  },
  {
   "cell_type": "code",
   "execution_count": null,
   "metadata": {},
   "outputs": [
    {
     "name": "stdout",
     "output_type": "stream",
     "text": [
      "Found 8000 images belonging to 2 classes.\n",
      "Found 2000 images belonging to 2 classes.\n"
     ]
    },
    {
     "name": "stderr",
     "output_type": "stream",
     "text": [
      "C:\\Users\\DELL\\anaconda3\\lib\\site-packages\\ipykernel_launcher.py:26: UserWarning: The semantics of the Keras 2 argument `steps_per_epoch` is not the same as the Keras 1 argument `samples_per_epoch`. `steps_per_epoch` is the number of batches to draw from the generator at each epoch. Basically steps_per_epoch = samples_per_epoch/batch_size. Similarly `nb_val_samples`->`validation_steps` and `val_samples`->`steps` arguments have changed. Update your method calls accordingly.\n",
      "C:\\Users\\DELL\\anaconda3\\lib\\site-packages\\ipykernel_launcher.py:26: UserWarning: Update your `fit_generator` call to the Keras 2 API: `fit_generator(<keras.pre..., validation_data=<keras.pre..., steps_per_epoch=250, epochs=25, validation_steps=2000)`\n"
     ]
    },
    {
     "name": "stdout",
     "output_type": "stream",
     "text": [
      "Epoch 1/25\n",
      "250/250 [==============================] - 746s 3s/step - loss: 0.6818 - accuracy: 0.5663 - val_loss: 0.6029 - val_accuracy: 0.6243\n",
      "Epoch 2/25\n",
      "250/250 [==============================] - 464s 2s/step - loss: 0.6153 - accuracy: 0.6678 - val_loss: 0.6428 - val_accuracy: 0.7066\n",
      "Epoch 3/25\n",
      "250/250 [==============================] - 477s 2s/step - loss: 0.5752 - accuracy: 0.6976 - val_loss: 0.3949 - val_accuracy: 0.7486\n",
      "Epoch 4/25\n",
      "250/250 [==============================] - 471s 2s/step - loss: 0.5350 - accuracy: 0.7260 - val_loss: 0.4192 - val_accuracy: 0.7574\n",
      "Epoch 5/25\n",
      "250/250 [==============================] - 425s 2s/step - loss: 0.5057 - accuracy: 0.7602 - val_loss: 0.5373 - val_accuracy: 0.7536\n",
      "Epoch 6/25\n",
      "250/250 [==============================] - 468s 2s/step - loss: 0.4895 - accuracy: 0.7679 - val_loss: 0.5497 - val_accuracy: 0.7696\n",
      "Epoch 7/25\n",
      "250/250 [==============================] - 506s 2s/step - loss: 0.4742 - accuracy: 0.7692 - val_loss: 0.4861 - val_accuracy: 0.7760\n",
      "Epoch 8/25\n",
      "250/250 [==============================] - 506s 2s/step - loss: 0.4632 - accuracy: 0.7761 - val_loss: 0.5155 - val_accuracy: 0.7797\n",
      "Epoch 9/25\n",
      "250/250 [==============================] - 507s 2s/step - loss: 0.4390 - accuracy: 0.7952 - val_loss: 0.6387 - val_accuracy: 0.7833\n",
      "Epoch 10/25\n",
      "250/250 [==============================] - 520s 2s/step - loss: 0.4252 - accuracy: 0.8004 - val_loss: 0.4513 - val_accuracy: 0.7891\n",
      "Epoch 11/25\n",
      "250/250 [==============================] - 515s 2s/step - loss: 0.4119 - accuracy: 0.8062 - val_loss: 0.6171 - val_accuracy: 0.7909\n",
      "Epoch 12/25\n",
      "250/250 [==============================] - 511s 2s/step - loss: 0.4052 - accuracy: 0.8114 - val_loss: 0.4722 - val_accuracy: 0.7915\n",
      "Epoch 13/25\n",
      "250/250 [==============================] - 510s 2s/step - loss: 0.3899 - accuracy: 0.8189 - val_loss: 0.4817 - val_accuracy: 0.7836\n",
      "Epoch 14/25\n",
      "250/250 [==============================] - 527s 2s/step - loss: 0.3808 - accuracy: 0.8231 - val_loss: 0.1815 - val_accuracy: 0.7962\n",
      "Epoch 15/25\n",
      "250/250 [==============================] - 537s 2s/step - loss: 0.3664 - accuracy: 0.8326 - val_loss: 0.3320 - val_accuracy: 0.7916\n",
      "Epoch 16/25\n",
      "249/250 [============================>.] - ETA: 0s - loss: 0.3550 - accuracy: 0.8419"
     ]
    }
   ],
   "source": [
    "# Part 2 - Fitting the CNN to the images\n",
    "\n",
    "from keras.preprocessing.image import ImageDataGenerator\n",
    "\n",
    "train_datagen = ImageDataGenerator(rescale = 1./255,\n",
    "                                   shear_range = 0.2,\n",
    "                                   zoom_range = 0.2,\n",
    "                                   horizontal_flip = True)\n",
    "\n",
    "test_datagen = ImageDataGenerator(rescale = 1./255)\n",
    "\n",
    "training_set = train_datagen.flow_from_directory('dataset/training_set',\n",
    "                                                 target_size = (64, 64),\n",
    "                                                 batch_size = 32,\n",
    "                                                 class_mode = 'binary')\n",
    "\n",
    "test_set = test_datagen.flow_from_directory('dataset/test_set',\n",
    "                                            target_size = (64, 64),\n",
    "                                            batch_size = 32,\n",
    "                                            class_mode = 'binary')\n",
    "\n",
    "classifier.fit_generator(training_set,\n",
    "                         samples_per_epoch = 8000,\n",
    "                         nb_epoch = 25,\n",
    "                         validation_data = test_set,\n",
    "                         nb_val_samples = 2000)"
   ]
  }
 ],
 "metadata": {
  "kernelspec": {
   "display_name": "Python 3",
   "language": "python",
   "name": "python3"
  },
  "language_info": {
   "codemirror_mode": {
    "name": "ipython",
    "version": 3
   },
   "file_extension": ".py",
   "mimetype": "text/x-python",
   "name": "python",
   "nbconvert_exporter": "python",
   "pygments_lexer": "ipython3",
   "version": "3.7.6"
  }
 },
 "nbformat": 4,
 "nbformat_minor": 4
}
