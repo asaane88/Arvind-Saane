{
 "cells": [
  {
   "cell_type": "raw",
   "metadata": {},
   "source": [
    "Correlated Features and Explained Variance"
   ]
  },
  {
   "cell_type": "raw",
   "metadata": {},
   "source": [
    "# A statistical transformation that converts a set of possibly correlated features into a set of linearly uncorrrelated variables called principal components (PC1, PC2....PCn)"
   ]
  },
  {
   "cell_type": "code",
   "execution_count": 1,
   "metadata": {},
   "outputs": [],
   "source": [
    "import numpy as np\n",
    "import pandas as pd\n",
    "from matplotlib import pyplot as plt\n",
    "%matplotlib inline\n",
    "import seaborn as sns\n",
    "sns.set_style('darkgrid')\n",
    "from sklearn.preprocessing import StandardScaler\n",
    "from sklearn.decomposition import PCA"
   ]
  },
  {
   "cell_type": "code",
   "execution_count": 2,
   "metadata": {},
   "outputs": [],
   "source": [
    "item_data = pd.read_csv('item_data.csv', index_col=0)"
   ]
  },
  {
   "cell_type": "code",
   "execution_count": 3,
   "metadata": {},
   "outputs": [
    {
     "data": {
      "text/plain": [
       "(414, 2574)"
      ]
     },
     "execution_count": 3,
     "metadata": {},
     "output_type": "execute_result"
    }
   ],
   "source": [
    "item_data.shape"
   ]
  },
  {
   "cell_type": "code",
   "execution_count": 4,
   "metadata": {},
   "outputs": [],
   "source": [
    "np.random.seed(101)\n",
    "x1 = np.random.normal(0, 1, 100)\n",
    "x2 = x1 + np.random.normal(0, 1, 100)"
   ]
  },
  {
   "cell_type": "code",
   "execution_count": 5,
   "metadata": {},
   "outputs": [
    {
     "name": "stdout",
     "output_type": "stream",
     "text": [
      "(100, 2)\n"
     ]
    }
   ],
   "source": [
    "X = np.stack([x1, x2], axis=1)\n",
    "print(X.shape)"
   ]
  },
  {
   "cell_type": "code",
   "execution_count": 6,
   "metadata": {},
   "outputs": [
    {
     "name": "stdout",
     "output_type": "stream",
     "text": [
      "[[ 2.70684984  4.3136297 ]\n",
      " [ 0.62813271 -0.48757726]\n",
      " [ 0.90796945 -0.47740911]\n",
      " [ 0.50382575 -0.82583431]\n",
      " [ 0.65111795  0.69257789]]\n"
     ]
    }
   ],
   "source": [
    "print(X[:5])"
   ]
  },
  {
   "cell_type": "code",
   "execution_count": 7,
   "metadata": {},
   "outputs": [
    {
     "name": "stdout",
     "output_type": "stream",
     "text": [
      "[[ 2.45737416  2.76968241]\n",
      " [ 0.44665735 -0.38363275]\n",
      " [ 0.71733989 -0.37695455]\n",
      " [ 0.3264168  -0.60579169]\n",
      " [ 0.46889068  0.39146426]]\n"
     ]
    }
   ],
   "source": [
    "#initialise instance of standardscaler\n",
    "scaler = StandardScaler()\n",
    "\n",
    "#Fit and transform X\n",
    "X_scaled = scaler.fit_transform(X)\n",
    "\n",
    "print(X_scaled[:5])"
   ]
  },
  {
   "cell_type": "code",
   "execution_count": 8,
   "metadata": {},
   "outputs": [
    {
     "data": {
      "image/png": "[encoded data removed]",
      "text/plain": [
       "<Figure size 432x288 with 1 Axes>"
      ]
     },
     "metadata": {
      "needs_background": "light"
     },
     "output_type": "display_data"
    }
   ],
   "source": [
    "plt.scatter(X_scaled[:, 0], X_scaled[:, 1])\n",
    "plt.axis('equal')\n",
    "plt.xlabel('x1[scaled]')\n",
    "plt.ylabel('x2[scaled]')\n",
    "plt.show()"
   ]
  },
  {
   "cell_type": "code",
   "execution_count": 9,
   "metadata": {},
   "outputs": [
    {
     "data": {
      "text/plain": [
       "PCA(copy=True, iterated_power='auto', n_components=None, random_state=None,\n",
       "  svd_solver='auto', tol=0.0, whiten=False)"
      ]
     },
     "execution_count": 9,
     "metadata": {},
     "output_type": "execute_result"
    }
   ],
   "source": [
    "#initalise instance of PCA transformation\n",
    "pca = PCA()\n",
    "\n",
    "#fit the instance\n",
    "pca.fit(X_scaled)"
   ]
  },
  {
   "cell_type": "code",
   "execution_count": 10,
   "metadata": {},
   "outputs": [
    {
     "name": "stdout",
     "output_type": "stream",
     "text": [
      "[[ 0.70710678  0.70710678]\n",
      " [-0.70710678  0.70710678]]\n"
     ]
    }
   ],
   "source": [
    "print(pca.components_)"
   ]
  },
  {
   "cell_type": "raw",
   "metadata": {},
   "source": [
    "[ 0.70710678  0.70710678] - 1st component\n",
    "[-0.70710678  0.70710678] - 2nd component"
   ]
  },
  {
   "cell_type": "code",
   "execution_count": 37,
   "metadata": {},
   "outputs": [
    {
     "data": {
      "image/png": "[encoded data removed]",
      "text/plain": [
       "<Figure size 432x288 with 1 Axes>"
      ]
     },
     "metadata": {
      "needs_background": "light"
     },
     "output_type": "display_data"
    }
   ],
   "source": [
    "plt.scatter(X_scaled[:, 0], X_scaled[:, 1], alpha=0.3)\n",
    "plt.plot([0, 2*pca.components_[0,0]], [0, 2*pca.components_[0, 1]],'k')\n",
    "plt.plot([0, pca.components_[1,0]], [0, pca.components_[1, 1]], 'r')\n",
    "plt.axis('equal')\n",
    "plt.xlabel('x1[scaled]')\n",
    "plt.ylabel('x2[scaled]')\n",
    "plt.show()"
   ]
  },
  {
   "cell_type": "code",
   "execution_count": 35,
   "metadata": {},
   "outputs": [
    {
     "ename": "ValueError",
     "evalue": "operands could not be broadcast together with shapes (100,2) (2574,) ",
     "output_type": "error",
     "traceback": [
      "\u001b[1;31m---------------------------------------------------------------------------\u001b[0m",
      "\u001b[1;31mValueError\u001b[0m                                Traceback (most recent call last)",
      "\u001b[1;32m<ipython-input-35-0fbcebf65d1c>\u001b[0m in \u001b[0;36m<module>\u001b[1;34m\u001b[0m\n\u001b[1;32m----> 1\u001b[1;33m \u001b[0mPC\u001b[0m \u001b[1;33m=\u001b[0m \u001b[0mpca\u001b[0m\u001b[1;33m.\u001b[0m\u001b[0mtransform\u001b[0m\u001b[1;33m(\u001b[0m\u001b[0mX_scaled\u001b[0m\u001b[1;33m)\u001b[0m\u001b[1;33m\u001b[0m\u001b[1;33m\u001b[0m\u001b[0m\n\u001b[0m",
      "\u001b[1;32m~\\Anaconda\\lib\\site-packages\\sklearn\\decomposition\\base.py\u001b[0m in \u001b[0;36mtransform\u001b[1;34m(self, X)\u001b[0m\n\u001b[0;32m    128\u001b[0m         \u001b[0mX\u001b[0m \u001b[1;33m=\u001b[0m \u001b[0mcheck_array\u001b[0m\u001b[1;33m(\u001b[0m\u001b[0mX\u001b[0m\u001b[1;33m)\u001b[0m\u001b[1;33m\u001b[0m\u001b[1;33m\u001b[0m\u001b[0m\n\u001b[0;32m    129\u001b[0m         \u001b[1;32mif\u001b[0m \u001b[0mself\u001b[0m\u001b[1;33m.\u001b[0m\u001b[0mmean_\u001b[0m \u001b[1;32mis\u001b[0m \u001b[1;32mnot\u001b[0m \u001b[1;32mNone\u001b[0m\u001b[1;33m:\u001b[0m\u001b[1;33m\u001b[0m\u001b[1;33m\u001b[0m\u001b[0m\n\u001b[1;32m--> 130\u001b[1;33m             \u001b[0mX\u001b[0m \u001b[1;33m=\u001b[0m \u001b[0mX\u001b[0m \u001b[1;33m-\u001b[0m \u001b[0mself\u001b[0m\u001b[1;33m.\u001b[0m\u001b[0mmean_\u001b[0m\u001b[1;33m\u001b[0m\u001b[1;33m\u001b[0m\u001b[0m\n\u001b[0m\u001b[0;32m    131\u001b[0m         \u001b[0mX_transformed\u001b[0m \u001b[1;33m=\u001b[0m \u001b[0mnp\u001b[0m\u001b[1;33m.\u001b[0m\u001b[0mdot\u001b[0m\u001b[1;33m(\u001b[0m\u001b[0mX\u001b[0m\u001b[1;33m,\u001b[0m \u001b[0mself\u001b[0m\u001b[1;33m.\u001b[0m\u001b[0mcomponents_\u001b[0m\u001b[1;33m.\u001b[0m\u001b[0mT\u001b[0m\u001b[1;33m)\u001b[0m\u001b[1;33m\u001b[0m\u001b[1;33m\u001b[0m\u001b[0m\n\u001b[0;32m    132\u001b[0m         \u001b[1;32mif\u001b[0m \u001b[0mself\u001b[0m\u001b[1;33m.\u001b[0m\u001b[0mwhiten\u001b[0m\u001b[1;33m:\u001b[0m\u001b[1;33m\u001b[0m\u001b[1;33m\u001b[0m\u001b[0m\n",
      "\u001b[1;31mValueError\u001b[0m: operands could not be broadcast together with shapes (100,2) (2574,) "
     ]
    }
   ],
   "source": [
    "PC = pca.transform(X_scaled)"
   ]
  },
  {
   "cell_type": "code",
   "execution_count": 33,
   "metadata": {},
   "outputs": [
    {
     "ename": "IndexError",
     "evalue": "index 1 is out of bounds for axis 1 with size 1",
     "output_type": "error",
     "traceback": [
      "\u001b[1;31m---------------------------------------------------------------------------\u001b[0m",
      "\u001b[1;31mIndexError\u001b[0m                                Traceback (most recent call last)",
      "\u001b[1;32m<ipython-input-33-a30f065ce0f9>\u001b[0m in \u001b[0;36m<module>\u001b[1;34m\u001b[0m\n\u001b[0;32m      1\u001b[0m \u001b[1;31m#plot transformed dataset\u001b[0m\u001b[1;33m\u001b[0m\u001b[1;33m\u001b[0m\u001b[1;33m\u001b[0m\u001b[0m\n\u001b[1;32m----> 2\u001b[1;33m \u001b[0mplt\u001b[0m\u001b[1;33m.\u001b[0m\u001b[0mscatter\u001b[0m\u001b[1;33m(\u001b[0m\u001b[0mPC\u001b[0m\u001b[1;33m[\u001b[0m\u001b[1;33m:\u001b[0m\u001b[1;33m,\u001b[0m \u001b[1;36m0\u001b[0m\u001b[1;33m]\u001b[0m\u001b[1;33m,\u001b[0m \u001b[0mPC\u001b[0m\u001b[1;33m[\u001b[0m\u001b[1;33m:\u001b[0m\u001b[1;33m,\u001b[0m \u001b[1;36m1\u001b[0m\u001b[1;33m]\u001b[0m\u001b[1;33m,\u001b[0m \u001b[0malpha\u001b[0m\u001b[1;33m=\u001b[0m\u001b[1;36m0.3\u001b[0m\u001b[1;33m,\u001b[0m \u001b[0mcolor\u001b[0m\u001b[1;33m=\u001b[0m\u001b[1;34m'g'\u001b[0m\u001b[1;33m)\u001b[0m\u001b[1;33m\u001b[0m\u001b[1;33m\u001b[0m\u001b[0m\n\u001b[0m\u001b[0;32m      3\u001b[0m \u001b[0mplt\u001b[0m\u001b[1;33m.\u001b[0m\u001b[0mplot\u001b[0m\u001b[1;33m(\u001b[0m\u001b[1;33m[\u001b[0m\u001b[1;36m0\u001b[0m\u001b[1;33m,\u001b[0m\u001b[1;36m2\u001b[0m\u001b[1;33m]\u001b[0m\u001b[1;33m,\u001b[0m \u001b[1;33m[\u001b[0m\u001b[1;36m0\u001b[0m\u001b[1;33m,\u001b[0m\u001b[1;36m0\u001b[0m\u001b[1;33m]\u001b[0m\u001b[1;33m,\u001b[0m \u001b[1;34m'k'\u001b[0m\u001b[1;33m)\u001b[0m\u001b[1;33m\u001b[0m\u001b[1;33m\u001b[0m\u001b[0m\n\u001b[0;32m      4\u001b[0m \u001b[0mplt\u001b[0m\u001b[1;33m.\u001b[0m\u001b[0mplot\u001b[0m\u001b[1;33m(\u001b[0m\u001b[1;33m[\u001b[0m\u001b[1;36m0\u001b[0m\u001b[1;33m,\u001b[0m\u001b[1;36m0\u001b[0m\u001b[1;33m]\u001b[0m\u001b[1;33m,\u001b[0m \u001b[1;33m[\u001b[0m\u001b[1;36m0\u001b[0m\u001b[1;33m,\u001b[0m\u001b[1;36m1\u001b[0m\u001b[1;33m]\u001b[0m\u001b[1;33m,\u001b[0m \u001b[1;34m'r'\u001b[0m\u001b[1;33m)\u001b[0m\u001b[1;33m\u001b[0m\u001b[1;33m\u001b[0m\u001b[0m\n\u001b[0;32m      5\u001b[0m \u001b[0mplt\u001b[0m\u001b[1;33m.\u001b[0m\u001b[0maxis\u001b[0m\u001b[1;33m(\u001b[0m\u001b[1;34m'equal'\u001b[0m\u001b[1;33m)\u001b[0m\u001b[1;33m\u001b[0m\u001b[1;33m\u001b[0m\u001b[0m\n",
      "\u001b[1;31mIndexError\u001b[0m: index 1 is out of bounds for axis 1 with size 1"
     ]
    }
   ],
   "source": [
    "#plot transformed dataset\n",
    "plt.scatter(PC[:, 0], PC[:, 1], alpha=0.3, color='g')\n",
    "plt.plot([0,2], [0,0], 'k')\n",
    "plt.plot([0,0], [0,1], 'r')\n",
    "plt.axis('equal')\n",
    "plt.xlabel('PC1')\n",
    "plt.ylabel('PC2')\n",
    "plt.show()"
   ]
  },
  {
   "cell_type": "code",
   "execution_count": 13,
   "metadata": {},
   "outputs": [
    {
     "name": "stdout",
     "output_type": "stream",
     "text": [
      "[0.86915841 0.13084159]\n"
     ]
    }
   ],
   "source": [
    "print(pca.explained_variance_ratio_)"
   ]
  },
  {
   "cell_type": "code",
   "execution_count": null,
   "metadata": {},
   "outputs": [],
   "source": [
    "# first principal component captured almost 87% of the total variance in the dataset\n",
    "#second component captured almost 13% of total cariancce"
   ]
  },
  {
   "cell_type": "code",
   "execution_count": 14,
   "metadata": {},
   "outputs": [
    {
     "data": {
      "text/plain": [
       "PCA(copy=True, iterated_power='auto', n_components=1, random_state=None,\n",
       "  svd_solver='auto', tol=0.0, whiten=False)"
      ]
     },
     "execution_count": 14,
     "metadata": {},
     "output_type": "execute_result"
    }
   ],
   "source": [
    "pca = PCA(n_components=1)\n",
    "pca.fit(X_scaled)"
   ]
  },
  {
   "cell_type": "code",
   "execution_count": 15,
   "metadata": {},
   "outputs": [
    {
     "name": "stdout",
     "output_type": "stream",
     "text": [
      "[[0.70710678 0.70710678]]\n"
     ]
    }
   ],
   "source": [
    "print(pca.components_)"
   ]
  },
  {
   "cell_type": "code",
   "execution_count": 16,
   "metadata": {},
   "outputs": [
    {
     "name": "stdout",
     "output_type": "stream",
     "text": [
      "(100, 1)\n"
     ]
    }
   ],
   "source": [
    "PC = pca.transform(X_scaled)\n",
    "print(PC.shape)"
   ]
  },
  {
   "cell_type": "code",
   "execution_count": 38,
   "metadata": {},
   "outputs": [
    {
     "data": {
      "image/png": "[encoded data removed]",
      "text/plain": [
       "<Figure size 432x288 with 1 Axes>"
      ]
     },
     "metadata": {
      "needs_background": "light"
     },
     "output_type": "display_data"
    }
   ],
   "source": [
    "plt.scatter(PC[:,0], len(PC)*[0], alpha=0.3, color='g')\n",
    "plt.plot([0,2], [0,0], 'k')\n",
    "\n",
    "plt.axis('equal')\n",
    "plt.xlabel('PC1')\n",
    "plt.show()"
   ]
  },
  {
   "cell_type": "code",
   "execution_count": null,
   "metadata": {},
   "outputs": [],
   "source": [
    "p"
   ]
  },
  {
   "cell_type": "code",
   "execution_count": 18,
   "metadata": {},
   "outputs": [],
   "source": [
    "item_data = pd.read_csv('item_data.csv', index_col=0)"
   ]
  },
  {
   "cell_type": "code",
   "execution_count": 19,
   "metadata": {},
   "outputs": [
    {
     "name": "stdout",
     "output_type": "stream",
     "text": [
      "[-0.1253063  -0.1253063  -0.1253063  -0.1253063  -0.1253063  -0.1253063\n",
      " -0.1253063  -0.1253063  -0.1253063  -0.1253063  -0.1253063  -0.1253063\n",
      " -0.1253063  -0.1253063  -0.1253063  -0.1253063  -0.1253063  -0.1253063\n",
      " -0.1253063  -0.1253063  -0.1253063  -0.1253063  -0.1253063  -0.1253063\n",
      " -0.1253063  -0.1253063  -0.1253063  -0.1253063  -0.1253063  -0.1253063\n",
      " -0.1253063  -0.1253063  -0.1253063  -0.1253063  -0.1253063  -0.1253063\n",
      " -0.1253063  -0.1253063  -0.1253063  -0.1253063  -0.1253063  -0.1253063\n",
      " -0.1253063  -0.1253063  -0.1253063  -0.1253063  -0.1253063  -0.1253063\n",
      " -0.1253063  -0.1253063  -0.1253063  -0.1253063  -0.1253063  -0.1253063\n",
      " -0.1253063  -0.1253063  -0.1253063  -0.1253063  -0.1253063  -0.1253063\n",
      " -0.1253063  -0.1253063  -0.1253063  -0.1253063  -0.1253063  -0.1253063\n",
      " -0.1253063  -0.1253063  -0.1253063  -0.1253063  -0.1253063  -0.1253063\n",
      " -0.1253063  -0.1253063   6.35929462 -0.1253063  -0.1253063  -0.1253063\n",
      " -0.1253063  -0.1253063  -0.1253063  -0.1253063  -0.1253063  -0.1253063\n",
      " -0.1253063  -0.1253063  -0.1253063  -0.1253063  -0.1253063  -0.1253063\n",
      " -0.1253063  -0.1253063  -0.1253063  -0.1253063  -0.1253063  -0.1253063\n",
      " -0.1253063  -0.1253063  -0.1253063  -0.1253063  -0.1253063  -0.1253063\n",
      " -0.1253063  -0.1253063  -0.1253063  -0.1253063  -0.1253063  -0.1253063\n",
      " -0.1253063  -0.1253063   6.35929462 -0.1253063  -0.1253063  -0.1253063\n",
      " -0.1253063  -0.1253063  -0.1253063  -0.1253063  -0.1253063  -0.1253063\n",
      " -0.1253063  -0.1253063  -0.1253063  -0.1253063  -0.1253063  -0.1253063\n",
      " -0.1253063  -0.1253063  -0.1253063  -0.1253063  -0.1253063  -0.1253063\n",
      " -0.1253063  -0.1253063  -0.1253063  -0.1253063  -0.1253063  -0.1253063\n",
      " -0.1253063  -0.1253063  -0.1253063  -0.1253063  -0.1253063  -0.1253063\n",
      " -0.1253063  -0.1253063  -0.1253063  -0.1253063  -0.1253063  -0.1253063\n",
      " -0.1253063  -0.1253063  -0.1253063  -0.1253063  -0.1253063  -0.1253063\n",
      " -0.1253063  -0.1253063  -0.1253063  -0.1253063  -0.1253063  -0.1253063\n",
      " -0.1253063  -0.1253063  -0.1253063  -0.1253063  -0.1253063  -0.1253063\n",
      " -0.1253063  -0.1253063  -0.1253063  -0.1253063  -0.1253063  -0.1253063\n",
      "  6.35929462 -0.1253063  -0.1253063  -0.1253063  -0.1253063  -0.1253063\n",
      " -0.1253063  -0.1253063  -0.1253063  -0.1253063  -0.1253063  -0.1253063\n",
      " -0.1253063  -0.1253063  -0.1253063  -0.1253063  -0.1253063  -0.1253063\n",
      " -0.1253063  -0.1253063  -0.1253063  -0.1253063  -0.1253063  -0.1253063\n",
      " -0.1253063  -0.1253063  -0.1253063  -0.1253063  -0.1253063  -0.1253063\n",
      " -0.1253063  -0.1253063  -0.1253063  -0.1253063  -0.1253063  -0.1253063\n",
      " -0.1253063  -0.1253063  -0.1253063  -0.1253063  -0.1253063  -0.1253063\n",
      " -0.1253063  -0.1253063  -0.1253063  -0.1253063  -0.1253063  -0.1253063\n",
      " -0.1253063  -0.1253063  -0.1253063  -0.1253063  -0.1253063   6.35929462\n",
      "  6.35929462 -0.1253063  -0.1253063  -0.1253063  -0.1253063  -0.1253063\n",
      " -0.1253063  -0.1253063  -0.1253063  -0.1253063  -0.1253063  -0.1253063\n",
      " -0.1253063  -0.1253063  -0.1253063  -0.1253063  -0.1253063  -0.1253063\n",
      " -0.1253063  -0.1253063  -0.1253063  -0.1253063  -0.1253063  -0.1253063\n",
      " -0.1253063  -0.1253063  -0.1253063  -0.1253063  -0.1253063  -0.1253063\n",
      " -0.1253063  -0.1253063  -0.1253063  -0.1253063  -0.1253063  -0.1253063\n",
      " -0.1253063  -0.1253063  -0.1253063  -0.1253063  -0.1253063  -0.1253063\n",
      " -0.1253063  -0.1253063  -0.1253063  -0.1253063  -0.1253063  -0.1253063\n",
      " -0.1253063  -0.1253063  -0.1253063  -0.1253063  -0.1253063  -0.1253063\n",
      " -0.1253063  -0.1253063  -0.1253063  -0.1253063  -0.1253063  -0.1253063\n",
      " -0.1253063  -0.1253063  -0.1253063  -0.1253063  -0.1253063  -0.1253063\n",
      " -0.1253063  -0.1253063  -0.1253063  -0.1253063  -0.1253063  -0.1253063\n",
      " -0.1253063  -0.1253063  -0.1253063  -0.1253063  -0.1253063  -0.1253063\n",
      " -0.1253063  -0.1253063  -0.1253063  -0.1253063  -0.1253063  -0.1253063\n",
      " -0.1253063  -0.1253063  -0.1253063  -0.1253063  -0.1253063  -0.1253063\n",
      " -0.1253063  -0.1253063  -0.1253063  -0.1253063  -0.1253063  -0.1253063\n",
      " -0.1253063  -0.1253063  -0.1253063  -0.1253063  -0.1253063  -0.1253063\n",
      " -0.1253063  -0.1253063  -0.1253063  -0.1253063  -0.1253063   6.35929462\n",
      " -0.1253063  -0.1253063  -0.1253063  -0.1253063  -0.1253063  -0.1253063\n",
      " -0.1253063  -0.1253063  -0.1253063  -0.1253063  -0.1253063  -0.1253063\n",
      " -0.1253063  -0.1253063  -0.1253063  -0.1253063  -0.1253063  -0.1253063\n",
      " -0.1253063  -0.1253063  -0.1253063  -0.1253063  -0.1253063  -0.1253063\n",
      " -0.1253063  -0.1253063  -0.1253063  -0.1253063  -0.1253063  -0.1253063\n",
      " -0.1253063  -0.1253063  -0.1253063  -0.1253063  -0.1253063  -0.1253063\n",
      " -0.1253063  -0.1253063  -0.1253063  -0.1253063  -0.1253063  -0.1253063\n",
      " -0.1253063  -0.1253063  -0.1253063  -0.1253063  -0.1253063  -0.1253063\n",
      " -0.1253063  12.84389554 -0.1253063  -0.1253063  -0.1253063  -0.1253063\n",
      " -0.1253063  -0.1253063  -0.1253063  -0.1253063  -0.1253063  -0.1253063\n",
      " -0.1253063  -0.1253063  -0.1253063  -0.1253063  -0.1253063  -0.1253063\n",
      " -0.1253063  -0.1253063  -0.1253063  -0.1253063  -0.1253063  -0.1253063\n",
      " -0.1253063  -0.1253063  -0.1253063  -0.1253063  -0.1253063  -0.1253063 ]\n"
     ]
    },
    {
     "name": "stderr",
     "output_type": "stream",
     "text": [
      "C:\\Users\\DELL\\Anaconda\\lib\\site-packages\\sklearn\\preprocessing\\data.py:625: DataConversionWarning: Data with input dtype int64 were all converted to float64 by StandardScaler.\n",
      "  return self.partial_fit(X, y)\n",
      "C:\\Users\\DELL\\Anaconda\\lib\\site-packages\\sklearn\\base.py:462: DataConversionWarning: Data with input dtype int64 were all converted to float64 by StandardScaler.\n",
      "  return self.fit(X, **fit_params).transform(X)\n"
     ]
    }
   ],
   "source": [
    "scaler = StandardScaler()\n",
    "item_data_scaled = scaler.fit_transform(item_data)\n",
    "print(item_data_scaled[:, 5])"
   ]
  },
  {
   "cell_type": "code",
   "execution_count": 20,
   "metadata": {},
   "outputs": [
    {
     "data": {
      "text/plain": [
       "PCA(copy=True, iterated_power='auto', n_components=None, random_state=None,\n",
       "  svd_solver='auto', tol=0.0, whiten=False)"
      ]
     },
     "execution_count": 20,
     "metadata": {},
     "output_type": "execute_result"
    }
   ],
   "source": [
    "pca = PCA()\n",
    "pca.fit(item_data_scaled)"
   ]
  },
  {
   "cell_type": "code",
   "execution_count": 21,
   "metadata": {},
   "outputs": [
    {
     "name": "stdout",
     "output_type": "stream",
     "text": [
      "[-1.15340917e+01  1.16083403e+00 -3.71539017e+00  6.47834727e-01\n",
      " -1.94357940e+00  7.83545047e-01  8.37198157e-01  8.71236675e-01\n",
      "  1.69930740e+00 -3.17743693e+00  6.30233277e-01 -4.74320133e+01\n",
      "  2.28900115e+00  8.95234848e-01 -2.56377855e+00 -7.68394243e-02\n",
      "  5.13216121e+00  1.51120469e+00  1.05333859e+00  1.43610544e+01\n",
      "  7.34960344e-01  1.53446057e+00  9.74477436e-01  1.04785908e+00\n",
      "  6.69888526e-01  1.36563525e+00 -3.93588652e-01  1.11902924e+00\n",
      "  1.40800759e+00 -7.36894030e-01  1.15858756e+00  8.36095389e-02\n",
      "  9.01456134e-02 -3.55311491e+00  1.36300816e+00  3.36752329e+00\n",
      "  6.91189235e-01  8.18989268e-01  5.70950655e-01  1.23258055e+00\n",
      "  4.22344820e-01  4.58103280e-01  1.01622428e+00  6.41447382e-01\n",
      "  7.59137835e-01  2.04670813e+00 -6.78653721e-01  2.77486997e+00\n",
      "  2.07730090e-01 -5.24993958e-01 -3.82225048e-01  1.05649001e+00\n",
      "  7.46060509e-01  1.22893114e+00 -1.35216892e+01  7.35423671e-01\n",
      "  2.18904943e-02  1.23368126e+00  6.25417688e-01  1.86129136e+00\n",
      " -5.72664001e-02 -1.90881879e-01  6.02742738e-01  1.51223460e+00\n",
      "  6.04144358e+01 -1.59997967e+00  8.59603292e-01 -6.48906907e+00\n",
      " -1.03353865e+00  3.23236337e+01  8.01249427e-01  1.53880905e-01\n",
      "  6.83969682e-01  2.54321756e+00  1.04959298e+00  1.95414006e+00\n",
      "  1.05487014e+00 -1.91427034e+01  1.02046972e+00 -9.43181035e-01\n",
      "  8.08664020e-01  2.60329084e-02 -3.68883225e+00  9.02877768e-01\n",
      "  9.25149040e-01  6.83083810e-01  6.70136370e-01 -3.98909782e-01\n",
      "  2.11006776e+00 -4.54694683e+00  9.33574013e-01  8.96227005e-01\n",
      " -8.36867568e-01 -2.30430039e+00 -6.90607654e-01 -6.63934453e-01\n",
      "  1.35604805e+00  1.40139174e+00 -1.59893819e+01  2.76789525e+00\n",
      " -2.90067864e-01  1.62412249e+01  9.95350656e-01 -1.73000087e+01\n",
      " -3.14680160e+01  1.10629282e+00  8.49687841e-01 -1.97745124e-01\n",
      " -3.98662164e+00  1.33767131e+00  3.86030810e+01  3.25451031e-01\n",
      "  4.31696602e-01  2.20943215e+00  1.03006525e+00  9.12540342e-01\n",
      "  9.60777580e-01  9.19573862e-01  7.91148120e-01  1.26795743e+00\n",
      " -1.86623545e+00  4.37219218e+00 -1.45816438e+01  1.13952802e+00\n",
      " -1.28561786e+00  4.61175622e-01 -1.23765165e+00  1.00627778e+00\n",
      "  8.68314846e-01  2.35479443e+00  1.14792396e+00  4.61726822e-02\n",
      "  1.17203354e+00  1.29482980e-01  2.46673238e+00  2.89242764e+00\n",
      "  8.20214121e-01  1.82216746e-01 -1.62222659e+00  3.65152029e-01\n",
      " -4.56149183e+00  1.50320507e+00  1.59968742e+00  1.64216184e+00\n",
      "  2.30630094e+00  6.20439421e-01  1.05662056e+00  1.04236368e-01\n",
      " -1.06221842e-01 -1.27949193e+00 -5.48839560e+00  8.30955917e-01\n",
      " -1.87140671e+01 -6.58178794e+00  5.84931547e-01  9.06768811e-01\n",
      "  2.21466388e+00  2.59737991e+00  9.47646877e-01  8.43344089e-01\n",
      "  7.12141685e-01  5.19632875e-01 -5.76770142e-01  2.87705476e+00\n",
      " -4.70550381e+00  9.50874060e-01  8.34664606e-01  4.22791947e-01\n",
      " -4.30842730e-01  5.11811754e-01  1.14503135e+00  9.43404901e-01\n",
      "  8.00386337e-01  1.13927314e+00  2.32180237e-01 -8.67738932e-01\n",
      "  1.53535202e+00 -4.79484228e-01  4.03162285e-01 -7.20568390e-01\n",
      " -5.21121564e+00 -4.73643107e+00  5.03141970e-01  1.36029950e+00\n",
      "  1.48847143e+00 -1.43190900e-01  7.90161381e-01  2.99490041e+00\n",
      " -3.36156339e+00 -1.00216866e+00  2.99666503e-01  8.52473583e-01\n",
      "  8.61648630e-01  3.47969811e-01 -1.73575364e-01  2.85427082e-01\n",
      "  9.49895169e-01  9.84432201e-01  2.21426896e+00  1.12140879e+00\n",
      " -5.31287996e+00  6.96424276e-01  1.74027218e+00  2.35782181e-01\n",
      " -4.28457342e-01  7.71786149e-01  7.90328980e-01  1.11162172e+00\n",
      "  2.58576361e+00 -7.72823851e-01 -5.88859885e-01  3.72039217e-01\n",
      "  1.22665062e+00  7.78962818e-01  8.18941659e-01  6.62261715e-01\n",
      "  1.12150135e+00 -9.77070804e-02  1.22106726e+00  1.81424327e+00\n",
      "  2.09582650e+00  6.26248709e+00  5.63657170e-01  9.68861499e-01\n",
      "  6.57238554e-01  2.67476677e+00  1.47087460e+00  3.46760319e-02\n",
      "  8.84010571e-01 -3.07272067e-01  1.13163313e-01  7.92764913e-02\n",
      " -9.95349633e-02  2.41160704e+00  7.45592017e-01  1.43444788e+00\n",
      " -3.02190717e+00  5.42260113e-01  6.02151119e-01  8.47472295e-01\n",
      "  4.20525508e-01  1.26194025e+00  2.88466852e-01 -3.16915562e+00\n",
      "  9.00568717e-01  1.99860779e+00  4.53207495e-01  1.23202542e+00\n",
      " -1.78702776e-01 -1.78173314e-01  7.88080603e-01  1.47863848e+00\n",
      " -1.40151562e+00  4.22572374e-01  5.34809654e-01  7.46547763e-01\n",
      "  4.35631751e+00  5.00421180e-01  7.54010758e-01 -2.00500854e-01\n",
      " -2.16805343e+00  4.53148146e-01  9.84648940e-01  1.00994559e+00\n",
      "  7.63300132e-01  1.61345093e+00  1.83794358e+00 -6.42343707e-01\n",
      "  1.50615848e+00  7.79507389e-01  4.47432190e+00 -1.13204641e+00\n",
      "  5.49984033e+00  1.49354033e+00 -7.52615187e-01  1.00797618e+00\n",
      " -2.21654135e+00  1.47122461e+00 -1.83906658e-01  9.08080950e-01\n",
      " -3.05670248e-01  1.35082054e+00 -7.20370991e-01 -6.60174940e-01\n",
      "  8.46752719e-01  1.61552004e+00  6.46759986e-01  8.29602119e-01\n",
      " -2.26557201e+00  6.88056555e+00  1.16085115e-01 -3.39572321e+00\n",
      " -2.88233987e+00  2.15904243e+00 -2.18025115e+00  1.09087548e+00\n",
      "  3.28027423e+00  7.71636383e-01 -1.68352883e-03 -1.38156567e+00\n",
      "  5.69970622e-01 -1.08572470e+00 -5.20446283e+00  2.77259829e+00\n",
      " -1.57660866e+00 -2.00267311e+00  4.84525352e-01  2.53203584e+00\n",
      "  3.34029267e+00  5.32084965e+00  1.97739683e-01  1.04212655e+00\n",
      " -4.09041229e+00  9.24619847e-01  1.06495204e+00  4.03350952e-01\n",
      " -3.30192736e-01  8.31694327e-01  5.39756285e-01  6.03706465e-01\n",
      "  1.03203596e+00 -4.58903787e+00 -1.84258623e+01  6.75846666e-01\n",
      "  2.17407164e+00 -5.19546261e-01  2.85815713e+00  7.75784027e-01\n",
      "  9.10137343e-01 -2.34532850e+00  7.05614461e-01  1.93479662e+00\n",
      " -1.26646581e+00  1.57706542e+00 -2.27731092e+00 -3.43290079e-01\n",
      " -5.04217306e-01  1.15594680e+00  1.24924901e-01 -2.09933236e+00\n",
      "  1.83920906e+00 -4.61971092e+00  3.60383082e-01  9.70438919e-01\n",
      " -5.39907323e+00  3.85139993e-01  8.52850174e-01  6.04374760e-01\n",
      "  8.65171321e-01 -2.45781896e-02  8.45292570e-01  1.31444901e+00\n",
      "  1.10125263e+00  2.49422050e+00  2.41103502e-01  8.55079370e-01\n",
      "  8.35504078e-01  1.74009074e-01  1.10907071e+00 -1.51649122e-02\n",
      "  4.48071633e-01  6.26196854e-01  8.28902272e-01  1.45261333e+00\n",
      " -6.42101206e-01  8.06022957e-01  2.81085189e-01 -2.52685989e+00\n",
      "  8.16055702e-01  4.56216401e-01 -2.52267935e+00  7.21184746e-01\n",
      " -1.06551807e+00 -2.44402005e+00  1.78560961e+00  7.68120884e-01\n",
      "  9.81733608e-01  7.50285286e-01  8.92899011e-01  5.89325306e-01\n",
      "  5.73626263e-01  3.68847830e+00  2.73077731e-01  1.41322629e+00\n",
      "  1.50287024e+00 -4.58622386e+00 -4.84207704e-01 -2.42764180e+01\n",
      " -4.03764201e-01 -2.31866572e+00 -3.90336889e+00  7.06033818e-01\n",
      "  8.22306950e-01 -6.52114921e+00 -9.33067299e-01  1.82208113e-02\n",
      " -1.74674561e+00  1.08494360e+00 -4.67309766e+01  1.78033317e+00\n",
      " -2.82984794e+00  2.03359520e+00  4.72597147e-01  1.98261060e-01\n",
      " -6.61548033e-01  7.59785880e-01 -8.71001337e+00 -3.27518756e+00\n",
      "  8.36495546e-01 -6.38439622e+00  2.32340492e+00  1.37275383e+00\n",
      "  3.73490194e-01  7.76497830e-01]\n"
     ]
    }
   ],
   "source": [
    "PC_items = pca.transform(item_data_scaled)\n",
    "print(PC_items[:,5])"
   ]
  },
  {
   "cell_type": "code",
   "execution_count": 22,
   "metadata": {},
   "outputs": [
    {
     "data": {
      "text/plain": [
       "0.9999999999999999"
      ]
     },
     "execution_count": 22,
     "metadata": {},
     "output_type": "execute_result"
    }
   ],
   "source": [
    "pca.explained_variance_ratio_.sum()"
   ]
  },
  {
   "cell_type": "code",
   "execution_count": 23,
   "metadata": {},
   "outputs": [
    {
     "data": {
      "image/png": "[encoded data removed]",
      "text/plain": [
       "<Figure size 432x288 with 1 Axes>"
      ]
     },
     "metadata": {
      "needs_background": "light"
     },
     "output_type": "display_data"
    }
   ],
   "source": [
    "cumulative_explained_variance = np.cumsum(pca.explained_variance_ratio_)\n",
    "\n",
    "plt.plot(range(len(cumulative_explained_variance)), cumulative_explained_variance)\n",
    "plt.show()"
   ]
  },
  {
   "cell_type": "code",
   "execution_count": 24,
   "metadata": {},
   "outputs": [
    {
     "name": "stdout",
     "output_type": "stream",
     "text": [
      "0.7955069032205401\n"
     ]
    }
   ],
   "source": [
    "print(cumulative_explained_variance[124])"
   ]
  },
  {
   "cell_type": "code",
   "execution_count": 25,
   "metadata": {},
   "outputs": [
    {
     "data": {
      "text/plain": [
       "(414, 125)"
      ]
     },
     "execution_count": 25,
     "metadata": {},
     "output_type": "execute_result"
    }
   ],
   "source": [
    "pca = PCA(n_components=125)\n",
    "PC_items = pca.fit_transform(item_data_scaled)\n",
    "PC_items.shape"
   ]
  },
  {
   "cell_type": "code",
   "execution_count": 26,
   "metadata": {},
   "outputs": [
    {
     "data": {
      "text/html": [
       "<div>\n",
       "<style scoped>\n",
       "    .dataframe tbody tr th:only-of-type {\n",
       "        vertical-align: middle;\n",
       "    }\n",
       "\n",
       "    .dataframe tbody tr th {\n",
       "        vertical-align: top;\n",
       "    }\n",
       "\n",
       "    .dataframe thead th {\n",
       "        text-align: right;\n",
       "    }\n",
       "</style>\n",
       "<table border=\"1\" class=\"dataframe\">\n",
       "  <thead>\n",
       "    <tr style=\"text-align: right;\">\n",
       "      <th></th>\n",
       "      <th>PC()</th>\n",
       "      <th>PC()</th>\n",
       "      <th>PC()</th>\n",
       "      <th>PC()</th>\n",
       "      <th>PC()</th>\n",
       "      <th>PC()</th>\n",
       "      <th>PC()</th>\n",
       "      <th>PC()</th>\n",
       "      <th>PC()</th>\n",
       "      <th>PC()</th>\n",
       "      <th>...</th>\n",
       "      <th>PC()</th>\n",
       "      <th>PC()</th>\n",
       "      <th>PC()</th>\n",
       "      <th>PC()</th>\n",
       "      <th>PC()</th>\n",
       "      <th>PC()</th>\n",
       "      <th>PC()</th>\n",
       "      <th>PC()</th>\n",
       "      <th>PC()</th>\n",
       "      <th>PC()</th>\n",
       "    </tr>\n",
       "    <tr>\n",
       "      <th>CustomerID</th>\n",
       "      <th></th>\n",
       "      <th></th>\n",
       "      <th></th>\n",
       "      <th></th>\n",
       "      <th></th>\n",
       "      <th></th>\n",
       "      <th></th>\n",
       "      <th></th>\n",
       "      <th></th>\n",
       "      <th></th>\n",
       "      <th></th>\n",
       "      <th></th>\n",
       "      <th></th>\n",
       "      <th></th>\n",
       "      <th></th>\n",
       "      <th></th>\n",
       "      <th></th>\n",
       "      <th></th>\n",
       "      <th></th>\n",
       "      <th></th>\n",
       "      <th></th>\n",
       "    </tr>\n",
       "  </thead>\n",
       "  <tbody>\n",
       "    <tr>\n",
       "      <th>12347</th>\n",
       "      <td>5.876141</td>\n",
       "      <td>4.828892</td>\n",
       "      <td>-0.495543</td>\n",
       "      <td>3.093843</td>\n",
       "      <td>-0.633702</td>\n",
       "      <td>-11.534085</td>\n",
       "      <td>2.161913</td>\n",
       "      <td>7.116797</td>\n",
       "      <td>5.336110</td>\n",
       "      <td>4.424089</td>\n",
       "      <td>...</td>\n",
       "      <td>-0.007766</td>\n",
       "      <td>-0.779199</td>\n",
       "      <td>0.613359</td>\n",
       "      <td>-0.330509</td>\n",
       "      <td>-0.004962</td>\n",
       "      <td>-0.045697</td>\n",
       "      <td>0.148163</td>\n",
       "      <td>-0.061750</td>\n",
       "      <td>-0.198612</td>\n",
       "      <td>-0.269058</td>\n",
       "    </tr>\n",
       "    <tr>\n",
       "      <th>12348</th>\n",
       "      <td>-4.219839</td>\n",
       "      <td>1.226195</td>\n",
       "      <td>-1.881922</td>\n",
       "      <td>-0.174302</td>\n",
       "      <td>0.817768</td>\n",
       "      <td>1.160852</td>\n",
       "      <td>-0.871961</td>\n",
       "      <td>-0.846827</td>\n",
       "      <td>0.460120</td>\n",
       "      <td>0.854323</td>\n",
       "      <td>...</td>\n",
       "      <td>-1.904435</td>\n",
       "      <td>0.075644</td>\n",
       "      <td>-0.955823</td>\n",
       "      <td>1.409611</td>\n",
       "      <td>0.724342</td>\n",
       "      <td>0.464916</td>\n",
       "      <td>1.907702</td>\n",
       "      <td>-1.416770</td>\n",
       "      <td>1.121250</td>\n",
       "      <td>-2.946993</td>\n",
       "    </tr>\n",
       "    <tr>\n",
       "      <th>12349</th>\n",
       "      <td>-1.260838</td>\n",
       "      <td>2.387828</td>\n",
       "      <td>-0.073097</td>\n",
       "      <td>-1.118903</td>\n",
       "      <td>-0.034546</td>\n",
       "      <td>-3.715325</td>\n",
       "      <td>-0.342738</td>\n",
       "      <td>-0.149002</td>\n",
       "      <td>-0.789685</td>\n",
       "      <td>-0.377883</td>\n",
       "      <td>...</td>\n",
       "      <td>4.595645</td>\n",
       "      <td>-4.527504</td>\n",
       "      <td>-2.370799</td>\n",
       "      <td>-3.396166</td>\n",
       "      <td>-3.419379</td>\n",
       "      <td>-1.304617</td>\n",
       "      <td>3.845541</td>\n",
       "      <td>0.807568</td>\n",
       "      <td>-4.652684</td>\n",
       "      <td>2.594639</td>\n",
       "    </tr>\n",
       "    <tr>\n",
       "      <th>12350</th>\n",
       "      <td>-4.929319</td>\n",
       "      <td>-0.714874</td>\n",
       "      <td>-1.581119</td>\n",
       "      <td>-0.469789</td>\n",
       "      <td>-0.116164</td>\n",
       "      <td>0.647736</td>\n",
       "      <td>0.112682</td>\n",
       "      <td>-1.336327</td>\n",
       "      <td>1.547287</td>\n",
       "      <td>-1.190830</td>\n",
       "      <td>...</td>\n",
       "      <td>-1.869817</td>\n",
       "      <td>-0.460085</td>\n",
       "      <td>-1.192275</td>\n",
       "      <td>-0.596812</td>\n",
       "      <td>-0.808693</td>\n",
       "      <td>0.373854</td>\n",
       "      <td>-0.282510</td>\n",
       "      <td>-0.819361</td>\n",
       "      <td>-1.010051</td>\n",
       "      <td>0.363232</td>\n",
       "    </tr>\n",
       "    <tr>\n",
       "      <th>12352</th>\n",
       "      <td>-2.053129</td>\n",
       "      <td>2.110788</td>\n",
       "      <td>0.184844</td>\n",
       "      <td>0.128379</td>\n",
       "      <td>0.087133</td>\n",
       "      <td>-1.943497</td>\n",
       "      <td>2.383475</td>\n",
       "      <td>0.898283</td>\n",
       "      <td>-0.672848</td>\n",
       "      <td>0.081181</td>\n",
       "      <td>...</td>\n",
       "      <td>1.695937</td>\n",
       "      <td>8.096258</td>\n",
       "      <td>10.325739</td>\n",
       "      <td>-8.947321</td>\n",
       "      <td>-3.582689</td>\n",
       "      <td>-2.078227</td>\n",
       "      <td>3.346192</td>\n",
       "      <td>5.183793</td>\n",
       "      <td>0.928319</td>\n",
       "      <td>-1.933235</td>\n",
       "    </tr>\n",
       "  </tbody>\n",
       "</table>\n",
       "<p>5 rows × 125 columns</p>\n",
       "</div>"
      ],
      "text/plain": [
       "                PC()      PC()      PC()      PC()      PC()       PC()  \\\n",
       "CustomerID                                                                \n",
       "12347       5.876141  4.828892 -0.495543  3.093843 -0.633702 -11.534085   \n",
       "12348      -4.219839  1.226195 -1.881922 -0.174302  0.817768   1.160852   \n",
       "12349      -1.260838  2.387828 -0.073097 -1.118903 -0.034546  -3.715325   \n",
       "12350      -4.929319 -0.714874 -1.581119 -0.469789 -0.116164   0.647736   \n",
       "12352      -2.053129  2.110788  0.184844  0.128379  0.087133  -1.943497   \n",
       "\n",
       "                PC()      PC()      PC()      PC()    ...         PC()  \\\n",
       "CustomerID                                            ...                \n",
       "12347       2.161913  7.116797  5.336110  4.424089    ...    -0.007766   \n",
       "12348      -0.871961 -0.846827  0.460120  0.854323    ...    -1.904435   \n",
       "12349      -0.342738 -0.149002 -0.789685 -0.377883    ...     4.595645   \n",
       "12350       0.112682 -1.336327  1.547287 -1.190830    ...    -1.869817   \n",
       "12352       2.383475  0.898283 -0.672848  0.081181    ...     1.695937   \n",
       "\n",
       "                PC()       PC()      PC()      PC()      PC()      PC()  \\\n",
       "CustomerID                                                                \n",
       "12347      -0.779199   0.613359 -0.330509 -0.004962 -0.045697  0.148163   \n",
       "12348       0.075644  -0.955823  1.409611  0.724342  0.464916  1.907702   \n",
       "12349      -4.527504  -2.370799 -3.396166 -3.419379 -1.304617  3.845541   \n",
       "12350      -0.460085  -1.192275 -0.596812 -0.808693  0.373854 -0.282510   \n",
       "12352       8.096258  10.325739 -8.947321 -3.582689 -2.078227  3.346192   \n",
       "\n",
       "                PC()      PC()      PC()  \n",
       "CustomerID                                \n",
       "12347      -0.061750 -0.198612 -0.269058  \n",
       "12348      -1.416770  1.121250 -2.946993  \n",
       "12349       0.807568 -4.652684  2.594639  \n",
       "12350      -0.819361 -1.010051  0.363232  \n",
       "12352       5.183793  0.928319 -1.933235  \n",
       "\n",
       "[5 rows x 125 columns]"
      ]
     },
     "execution_count": 26,
     "metadata": {},
     "output_type": "execute_result"
    }
   ],
   "source": [
    "items_pca = pd.DataFrame(PC_items)\n",
    "items_pca.columns = ['PC()'.format(i+1) for i in range(PC_items.shape[1])]\n",
    "items_pca.index = item_data.index\n",
    "items_pca.head()"
   ]
  },
  {
   "cell_type": "code",
   "execution_count": 27,
   "metadata": {},
   "outputs": [],
   "source": [
    "items_pca.to_csv('pca_item_data.csv')"
   ]
  },
  {
   "cell_type": "code",
   "execution_count": null,
   "metadata": {},
   "outputs": [],
   "source": [
    "#Eculidian distance between two observations, calculated using the input features"
   ]
  },
  {
   "cell_type": "code",
   "execution_count": null,
   "metadata": {},
   "outputs": [],
   "source": []
  },
  {
   "cell_type": "code",
   "execution_count": null,
   "metadata": {},
   "outputs": [],
   "source": []
  },
  {
   "cell_type": "code",
   "execution_count": null,
   "metadata": {},
   "outputs": [],
   "source": []
  },
  {
   "cell_type": "code",
   "execution_count": null,
   "metadata": {},
   "outputs": [],
   "source": []
  }
 ],
 "metadata": {
  "kernelspec": {
   "display_name": "Python 3",
   "language": "python",
   "name": "python3"
  },
  "language_info": {
   "codemirror_mode": {
    "name": "ipython",
    "version": 3
   },
   "file_extension": ".py",
   "mimetype": "text/x-python",
   "name": "python",
   "nbconvert_exporter": "python",
   "pygments_lexer": "ipython3",
   "version": "3.7.1"
  }
 },
 "nbformat": 4,
 "nbformat_minor": 2
}
