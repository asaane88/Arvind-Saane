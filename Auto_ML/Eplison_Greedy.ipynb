{
  "nbformat": 4,
  "nbformat_minor": 0,
  "metadata": {
    "colab": {
      "name": "Eplison Greedy.ipynb",
      "provenance": [],
      "collapsed_sections": [],
      "authorship_tag": "ABX9TyMoDQYCUcGdH/9kJqm0J1PJ",
      "include_colab_link": true
    },
    "kernelspec": {
      "name": "python3",
      "display_name": "Python 3"
    }
  },
  "cells": [
    {
      "cell_type": "markdown",
      "metadata": {
        "id": "view-in-github",
        "colab_type": "text"
      },
      "source": [
        "<a href=\"https://colab.research.google.com/github/asaane88/Arvind-Saane/blob/master/Eplison_Greedy.ipynb\" target=\"_parent\"><img src=\"https://colab.research.google.com/assets/colab-badge.svg\" alt=\"Open In Colab\"/></a>"
      ]
    },
    {
      "cell_type": "code",
      "metadata": {
        "id": "xdDex-nMvPwU",
        "colab_type": "code",
        "colab": {}
      },
      "source": [
        "import numpy as np\n",
        "import matplotlib.pyplot as plt\n",
        "\n",
        "class Actions:\n",
        "  def __init__(self, m):\n",
        "    self.m = m\n",
        "    self.mean = 0\n",
        "    self.N = 0\n",
        "\n",
        "    def choose(self):\n",
        "      return np.random.randn() + self.m\n",
        "\n",
        "    def update(self, x):\n",
        "      self.N += 1\n",
        "      self.mean = (1 - 1.0/self.N)*self.mean +1.0/self.N*x"
      ],
      "execution_count": 0,
      "outputs": []
    },
    {
      "cell_type": "code",
      "metadata": {
        "id": "yQfKobCYvUgA",
        "colab_type": "code",
        "colab": {}
      },
      "source": [
        "def run_experiment(m1, m2, m3, eps, N):\n",
        "\n",
        "  actions = [Actions(m1), Actions(m2), Actions(m3)]\n",
        "\n",
        "  data = np.empty(N)\n",
        "\n",
        "  for i in range(N):\n",
        "    #eplison greedy\n",
        "    p = np.random.random()\n",
        "    if p < eps:\n",
        "      j = np.random.choice(3)\n",
        "    else:\n",
        "      j = np.argmax([a.mean for a in actions])\n",
        "    x = actions[j].choose()\n",
        "    actions[j].update(x)\n",
        "\n",
        "    #for the plot\n",
        "    data[i] = x\n",
        "  cumulative_average = np.cumsum(data) / (np.arrange(N) + 1)\n",
        "\n",
        "  #Plot moving average ctr\n",
        "  plt.plot(cumulative_average)\n",
        "  plt.plot(np.ones(N)*m1)\n",
        "  plt.plot(np.ones(N)*m2)\n",
        "  plt.plot(np.ones(N)*m3)\n",
        "  plt.xscale('log')\n",
        "  plt.show()\n",
        "\n",
        "  for a in actions:\n",
        "    print(a.mean)\n",
        "\n",
        "    return cumulative_average"
      ],
      "execution_count": 0,
      "outputs": []
    },
    {
      "cell_type": "code",
      "metadata": {
        "id": "to4lMCacvUkf",
        "colab_type": "code",
        "colab": {}
      },
      "source": [
        "c_1 = run_experiment(1.0, 2.0, 3.0, 0.1, 100000)"
      ],
      "execution_count": 0,
      "outputs": []
    },
    {
      "cell_type": "code",
      "metadata": {
        "id": "FSnBcwKDvUpQ",
        "colab_type": "code",
        "colab": {}
      },
      "source": [
        "c_05 = run_experiment(1.0, 2.0, 3.0, 0.05, 100000)"
      ],
      "execution_count": 0,
      "outputs": []
    },
    {
      "cell_type": "code",
      "metadata": {
        "id": "O0E2Vzgm2jNN",
        "colab_type": "code",
        "colab": {}
      },
      "source": [
        "c_01 = run_experiment(1.0, 2.0, 3.0, 0.01, 100000)"
      ],
      "execution_count": 0,
      "outputs": []
    },
    {
      "cell_type": "code",
      "metadata": {
        "id": "8fFfeeHRvUtl",
        "colab_type": "code",
        "colab": {}
      },
      "source": [
        "#log Scale\n",
        "plt.plot(c_1, label ='eps = 0.1'  )\n",
        "plt.plot(c_05, label ='eps = 0.05'  )\n",
        "plt.plot(c_01, label ='eps = 0.01'  )\n",
        "plt.legend()\n",
        "plt.xscale('log')\n",
        "plt.show()"
      ],
      "execution_count": 0,
      "outputs": []
    },
    {
      "cell_type": "code",
      "metadata": {
        "id": "Epx955pdvUyM",
        "colab_type": "code",
        "colab": {},
        "cellView": "both"
      },
      "source": [
        "#linear plot\n",
        "plt.figure(figsize=(12,8))\n",
        "plt.plot(c_1, label ='eps = 0.1'  )\n",
        "plt.plot(c_05, label ='eps = 0.05'  )\n",
        "plt.plot(c_01, label ='eps = 0.01'  )\n",
        "plt.legend()\n",
        "plt.show()"
      ],
      "execution_count": 0,
      "outputs": []
    }
  ]
}